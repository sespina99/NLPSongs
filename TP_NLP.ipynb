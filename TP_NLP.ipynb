{
  "cells": [
    {
      "cell_type": "markdown",
      "metadata": {
        "id": "35Fd4xFIdKZR"
      },
      "source": [
        "# First Analysis\n",
        "\n"
      ]
    },
    {
      "cell_type": "code",
      "execution_count": 1,
      "metadata": {
        "id": "jC3OzV0kCekP"
      },
      "outputs": [],
      "source": [
        "import numpy as np\n",
        "import pandas as pd\n",
        "from pandas import read_csv\n",
        "import seaborn as sns\n",
        "import matplotlib.pyplot as plt"
      ]
    },
    {
      "cell_type": "code",
      "execution_count": 2,
      "metadata": {
        "colab": {
          "base_uri": "https://localhost:8080/"
        },
        "id": "eU2qb1y_Vfcw",
        "outputId": "f3372117-ca52-4286-d86c-44e31eb52c13"
      },
      "outputs": [
        {
          "data": {
            "text/plain": [
              "(587164, 8)"
            ]
          },
          "execution_count": 2,
          "metadata": {},
          "output_type": "execute_result"
        }
      ],
      "source": [
        "en_songs = pd.read_csv('song_lyrics_filtered.csv')\n",
        "en_songs.shape"
      ]
    },
    {
      "cell_type": "code",
      "execution_count": 3,
      "metadata": {
        "colab": {
          "base_uri": "https://localhost:8080/"
        },
        "id": "ChFCkno7dUTv",
        "outputId": "7d8f0854-ae2a-4ccc-e0c2-e02c9172075e"
      },
      "outputs": [
        {
          "name": "stdout",
          "output_type": "stream",
          "text": [
            "<class 'pandas.core.frame.DataFrame'>\n",
            "RangeIndex: 587164 entries, 0 to 587163\n",
            "Data columns (total 8 columns):\n",
            " #   Column    Non-Null Count   Dtype \n",
            "---  ------    --------------   ----- \n",
            " 0   title     587162 non-null  object\n",
            " 1   tag       587164 non-null  object\n",
            " 2   artist    587164 non-null  object\n",
            " 3   year      587164 non-null  int64 \n",
            " 4   views     587164 non-null  int64 \n",
            " 5   features  587164 non-null  object\n",
            " 6   lyrics    587164 non-null  object\n",
            " 7   id        587164 non-null  int64 \n",
            "dtypes: int64(3), object(5)\n",
            "memory usage: 35.8+ MB\n"
          ]
        }
      ],
      "source": [
        "en_songs.info()"
      ]
    },
    {
      "cell_type": "code",
      "execution_count": 4,
      "metadata": {
        "colab": {
          "base_uri": "https://localhost:8080/"
        },
        "id": "_CMtVc97V7BO",
        "outputId": "5890bdc8-0cd2-4ab8-b025-6b5e9a597bd4"
      },
      "outputs": [
        {
          "data": {
            "text/plain": [
              "Index(['title', 'tag', 'artist', 'year', 'views', 'features', 'lyrics', 'id'], dtype='object')"
            ]
          },
          "execution_count": 4,
          "metadata": {},
          "output_type": "execute_result"
        }
      ],
      "source": [
        "en_songs.columns"
      ]
    },
    {
      "cell_type": "code",
      "execution_count": 5,
      "metadata": {
        "colab": {
          "base_uri": "https://localhost:8080/"
        },
        "id": "PzPFivEgdYVy",
        "outputId": "1c85adfe-9430-46d9-cbf2-4f9cda01761b"
      },
      "outputs": [
        {
          "name": "stdout",
          "output_type": "stream",
          "text": [
            "Number of unique artists: 82344\n",
            "Number of songs: 587164\n"
          ]
        }
      ],
      "source": [
        "print(\"Number of unique artists:\", en_songs['artist'].nunique())\n",
        "print(\"Number of songs:\", len(en_songs))"
      ]
    },
    {
      "cell_type": "code",
      "execution_count": 6,
      "metadata": {
        "colab": {
          "base_uri": "https://localhost:8080/"
        },
        "id": "TFPS87u2Vsba",
        "outputId": "2032179f-0a0d-402c-df1c-eb87d4a3fb90"
      },
      "outputs": [
        {
          "data": {
            "text/plain": [
              "title       2\n",
              "tag         0\n",
              "artist      0\n",
              "year        0\n",
              "views       0\n",
              "features    0\n",
              "lyrics      0\n",
              "id          0\n",
              "dtype: int64"
            ]
          },
          "execution_count": 6,
          "metadata": {},
          "output_type": "execute_result"
        }
      ],
      "source": [
        "en_songs.isnull().sum()"
      ]
    },
    {
      "cell_type": "code",
      "execution_count": 3,
      "metadata": {},
      "outputs": [
        {
          "name": "stdout",
          "output_type": "stream",
          "text": [
            "Rows with null values:\n",
            "       title  tag             artist  year  views features   \n",
            "316745   NaN   rb         VELVETEARS  2016   3011       {}  \\\n",
            "328793   NaN  pop  Elevation Worship  2017   7690       {}   \n",
            "\n",
            "                                                   lyrics       id  \n",
            "316745  [Verse 1]\\nI be chillin on the west side\\nI ai...  2932042  \n",
            "328793  [Verse 1]\\nYou are the One\\nWho knows my need\\...  3019135  \n"
          ]
        }
      ],
      "source": [
        "null_rows = en_songs[en_songs.isnull().any(axis=1)]\n",
        "\n",
        "print(\"Rows with null values:\")\n",
        "print(null_rows)"
      ]
    },
    {
      "cell_type": "code",
      "execution_count": 4,
      "metadata": {
        "colab": {
          "base_uri": "https://localhost:8080/"
        },
        "id": "K8LKHQa3VxCu",
        "outputId": "d26c23f6-dde5-4425-c338-958cda8441fc"
      },
      "outputs": [
        {
          "data": {
            "text/plain": [
              "(587162, 8)"
            ]
          },
          "execution_count": 4,
          "metadata": {},
          "output_type": "execute_result"
        }
      ],
      "source": [
        "# english_songs=en_songs.drop_duplicates()\n",
        "english_songs = en_songs.dropna()\n",
        "english_songs.shape"
      ]
    },
    {
      "cell_type": "code",
      "execution_count": null,
      "metadata": {},
      "outputs": [],
      "source": [
        "english_songs.to_csv('././filtered_english_songs2.csv', index=False)"
      ]
    },
    {
      "cell_type": "code",
      "execution_count": 9,
      "metadata": {
        "colab": {
          "base_uri": "https://localhost:8080/",
          "height": 175
        },
        "id": "zcbf6g7xWSgW",
        "outputId": "5079c875-d3fc-4e9f-a6f7-929848f609eb"
      },
      "outputs": [
        {
          "data": {
            "text/html": [
              "<div>\n",
              "<style scoped>\n",
              "    .dataframe tbody tr th:only-of-type {\n",
              "        vertical-align: middle;\n",
              "    }\n",
              "\n",
              "    .dataframe tbody tr th {\n",
              "        vertical-align: top;\n",
              "    }\n",
              "\n",
              "    .dataframe thead th {\n",
              "        text-align: right;\n",
              "    }\n",
              "</style>\n",
              "<table border=\"1\" class=\"dataframe\">\n",
              "  <thead>\n",
              "    <tr style=\"text-align: right;\">\n",
              "      <th></th>\n",
              "      <th>year</th>\n",
              "      <th>views</th>\n",
              "      <th>id</th>\n",
              "    </tr>\n",
              "  </thead>\n",
              "  <tbody>\n",
              "    <tr>\n",
              "      <th>count</th>\n",
              "      <td>587164.000000</td>\n",
              "      <td>5.871640e+05</td>\n",
              "      <td>5.871640e+05</td>\n",
              "    </tr>\n",
              "    <tr>\n",
              "      <th>mean</th>\n",
              "      <td>2010.221277</td>\n",
              "      <td>2.054771e+04</td>\n",
              "      <td>2.745622e+06</td>\n",
              "    </tr>\n",
              "    <tr>\n",
              "      <th>std</th>\n",
              "      <td>24.947754</td>\n",
              "      <td>1.321148e+05</td>\n",
              "      <td>2.047231e+06</td>\n",
              "    </tr>\n",
              "    <tr>\n",
              "      <th>min</th>\n",
              "      <td>1.000000</td>\n",
              "      <td>1.000000e+03</td>\n",
              "      <td>1.000000e+00</td>\n",
              "    </tr>\n",
              "    <tr>\n",
              "      <th>25%</th>\n",
              "      <td>2008.000000</td>\n",
              "      <td>1.634000e+03</td>\n",
              "      <td>8.820908e+05</td>\n",
              "    </tr>\n",
              "    <tr>\n",
              "      <th>50%</th>\n",
              "      <td>2015.000000</td>\n",
              "      <td>3.142000e+03</td>\n",
              "      <td>2.725638e+06</td>\n",
              "    </tr>\n",
              "    <tr>\n",
              "      <th>75%</th>\n",
              "      <td>2018.000000</td>\n",
              "      <td>8.666000e+03</td>\n",
              "      <td>4.138769e+06</td>\n",
              "    </tr>\n",
              "    <tr>\n",
              "      <th>max</th>\n",
              "      <td>2023.000000</td>\n",
              "      <td>1.757563e+07</td>\n",
              "      <td>7.880159e+06</td>\n",
              "    </tr>\n",
              "  </tbody>\n",
              "</table>\n",
              "</div>"
            ],
            "text/plain": [
              "                year         views            id\n",
              "count  587164.000000  5.871640e+05  5.871640e+05\n",
              "mean     2010.221277  2.054771e+04  2.745622e+06\n",
              "std        24.947754  1.321148e+05  2.047231e+06\n",
              "min         1.000000  1.000000e+03  1.000000e+00\n",
              "25%      2008.000000  1.634000e+03  8.820908e+05\n",
              "50%      2015.000000  3.142000e+03  2.725638e+06\n",
              "75%      2018.000000  8.666000e+03  4.138769e+06\n",
              "max      2023.000000  1.757563e+07  7.880159e+06"
            ]
          },
          "execution_count": 9,
          "metadata": {},
          "output_type": "execute_result"
        }
      ],
      "source": [
        "en_songs.describe()"
      ]
    },
    {
      "cell_type": "code",
      "execution_count": 10,
      "metadata": {},
      "outputs": [
        {
          "name": "stdout",
          "output_type": "stream",
          "text": [
            "Number of Unique Tags: 5\n"
          ]
        }
      ],
      "source": [
        "unique_tag_count = en_songs['tag'].nunique()\n",
        "\n",
        "print(\"Number of Unique Tags:\", unique_tag_count)"
      ]
    },
    {
      "cell_type": "markdown",
      "metadata": {
        "id": "4QsgvxOGdhby"
      },
      "source": [
        "# Some graphs"
      ]
    },
    {
      "cell_type": "code",
      "execution_count": 33,
      "metadata": {
        "colab": {
          "base_uri": "https://localhost:8080/",
          "height": 805
        },
        "id": "itmT2S5QWbJz",
        "outputId": "8e74fa30-46e6-4184-bfc1-0c91ec54e531"
      },
      "outputs": [
        {
          "data": {
            "image/png": "[encoded data removed]",
            "text/plain": [
              "<Figure size 720x432 with 1 Axes>"
            ]
          },
          "metadata": {
            "needs_background": "light"
          },
          "output_type": "display_data"
        }
      ],
      "source": [
        "top_artists = en_songs['artist'].value_counts().head(10)\n",
        "plt.figure(figsize=(10, 6))\n",
        "sns.barplot(x=top_artists.values, y=top_artists.index, palette='viridis')\n",
        "plt.title('Top 10 Artists by Number of Songs')\n",
        "plt.xlabel('Number of Songs')\n",
        "plt.ylabel('Artist')\n",
        "plt.show()"
      ]
    },
    {
      "cell_type": "code",
      "execution_count": 5,
      "metadata": {},
      "outputs": [],
      "source": [
        "en_songs = en_songs[en_songs['artist'] != 'Genius Romanizations']\n",
        "en_songs = en_songs[en_songs['artist'] != 'Genius English Translations']\n"
      ]
    },
    {
      "cell_type": "code",
      "execution_count": 42,
      "metadata": {},
      "outputs": [
        {
          "name": "stderr",
          "output_type": "stream",
          "text": [
            "[nltk_data] Downloading package stopwords to\n",
            "[nltk_data]     /Users/micacapart/nltk_data...\n",
            "[nltk_data]   Package stopwords is already up-to-date!\n"
          ]
        },
        {
          "data": {
            "text/plain": [
              "True"
            ]
          },
          "execution_count": 42,
          "metadata": {},
          "output_type": "execute_result"
        }
      ],
      "source": [
        "from collections import Counter\n",
        "import re\n",
        "import nltk\n",
        "from nltk.corpus import stopwords\n",
        "\n",
        "nltk.download('stopwords')"
      ]
    },
    {
      "cell_type": "code",
      "execution_count": 16,
      "metadata": {
        "colab": {
          "base_uri": "https://localhost:8080/",
          "height": 686
        },
        "id": "rxn0q-FhWdgT",
        "outputId": "83e1b980-7d50-4f73-f1ca-b8193c6c8a69"
      },
      "outputs": [
        {
          "data": {
            "image/png": "[encoded data removed]",
            "text/plain": [
              "<Figure size 720x432 with 1 Axes>"
            ]
          },
          "metadata": {
            "needs_background": "light"
          },
          "output_type": "display_data"
        }
      ],
      "source": [
        "# Extract words from titles\n",
        "all_titles = ' '.join(en_songs['title'].dropna())\n",
        "words = re.findall(r'\\w+', all_titles.lower())\n",
        "filtered_words = [word for word in words if word not in stopwords.words('english')]\n",
        "\n",
        "word_count = Counter(filtered_words)\n",
        "most_common_words = word_count.most_common(10)\n",
        "\n",
        "# Plot the most common words in song titles\n",
        "plt.figure(figsize=(10, 6))\n",
        "sns.barplot(x=[wc[1] for wc in most_common_words], y=[wc[0] for wc in most_common_words], palette='muted')\n",
        "plt.title('Most Common Words in Song Titles')\n",
        "plt.xlabel('Frequency')\n",
        "plt.ylabel('Word')\n",
        "plt.show()"
      ]
    },
    {
      "cell_type": "code",
      "execution_count": 22,
      "metadata": {
        "colab": {
          "base_uri": "https://localhost:8080/",
          "height": 686
        },
        "id": "IdLIUkuiaYJM",
        "outputId": "6c658218-6b9c-47b3-e6a9-7caafddba6de"
      },
      "outputs": [],
      "source": [
        "\n",
        "all_titles = ' '.join(en_songs['lyrics'].dropna())\n",
        "words = re.findall(r'\\w+', all_titles.lower())\n",
        "filtered_words = [word for word in words if word not in stopwords.words('english')]\n",
        "\n",
        "word_count = Counter(filtered_words)\n",
        "most_common_words = word_count.most_common(10)\n",
        "\n",
        "# Plot the most common words in song titles\n",
        "plt.figure(figsize=(10, 6))\n",
        "sns.barplot(x=[wc[1] for wc in most_common_words], y=[wc[0] for wc in most_common_words], palette='muted')\n",
        "plt.title('Most Common Words in Song Lyrics')\n",
        "plt.xlabel('Frequency')\n",
        "plt.ylabel('Word')\n",
        "plt.show()"
      ]
    },
    {
      "cell_type": "code",
      "execution_count": 10,
      "metadata": {},
      "outputs": [
        {
          "name": "stdout",
          "output_type": "stream",
          "text": [
            "Number of songs with lyrics longer than 15,000 words: 2\n"
          ]
        }
      ],
      "source": [
        "en_songs['lyric_length'] = en_songs['lyrics'].apply(lambda x: len(str(x).split()) if pd.notnull(x) else 0)\n",
        "\n",
        "\n"
      ]
    },
    {
      "cell_type": "code",
      "execution_count": 30,
      "metadata": {},
      "outputs": [
        {
          "name": "stdout",
          "output_type": "stream",
          "text": [
            "                                                    title  lyric_length\n",
            "394923                     Hollow Da Don vs. Arsonal 2018          3975\n",
            "228222                           The Gang Runs for Office          3974\n",
            "245244  The Crack Epidemic and the Advent of Modern Hi...          3964\n",
            "134455               The Resistance: Rise Of The Runaways          3963\n",
            "99812                             Swave Sevah vs Dizaster          3946\n",
            "Number of songs with lyrics longer than 2500 words: 576773  total  577061\n"
          ]
        }
      ],
      "source": [
        "# Step 2: Filter the DataFrame for lyrics longer than 15,000 words\n",
        "long_lyrics = en_songs[en_songs['lyric_length'] < 4000]\n",
        "\n",
        "# Step 3: Count the number of songs with lyrics longer than 15,000 words\n",
        "num_long_lyrics = len(long_lyrics)\n",
        "long_lyrics_selected = long_lyrics[['title', 'lyric_length']]\n",
        "long_lyrics_selected = long_lyrics_selected.sort_values(by='lyric_length', ascending=False)\n",
        "print(long_lyrics_selected.head())\n",
        "print(\"Number of songs with lyrics longer than 2500 words:\", num_long_lyrics, \" total \", len(en_songs))"
      ]
    },
    {
      "cell_type": "code",
      "execution_count": 32,
      "metadata": {
        "colab": {
          "base_uri": "https://localhost:8080/",
          "height": 472
        },
        "id": "IqVScmE3bJNG",
        "outputId": "71a22a0b-4dd2-498d-a430-9ddc0b2a8bf1"
      },
      "outputs": [
        {
          "data": {
            "image/png": "[encoded data removed]",
            "text/plain": [
              "<Figure size 432x288 with 1 Axes>"
            ]
          },
          "metadata": {
            "needs_background": "light"
          },
          "output_type": "display_data"
        }
      ],
      "source": [
        "# Length of lyrics (number of words)\n",
        "bins = [0, 50, 100, 200, 500, 1000]\n",
        "en_songs['Lyric_Length'] = long_lyrics['lyrics'].apply(lambda x: len(str(x).split()) if pd.notnull(x) else 0)\n",
        "\n",
        "sns.histplot(data=en_songs, x='Lyric_Length', bins=30, kde=True)\n",
        "plt.title('Distribution of Lyric Length')\n",
        "plt.show()\n",
        "\n"
      ]
    },
    {
      "cell_type": "code",
      "execution_count": 16,
      "metadata": {
        "colab": {
          "base_uri": "https://localhost:8080/",
          "height": 805
        },
        "id": "pnGz4m16duxN",
        "outputId": "ea0123c2-d7dc-4d1b-c4aa-25106c976842"
      },
      "outputs": [
        {
          "ename": "KeyboardInterrupt",
          "evalue": "",
          "output_type": "error",
          "traceback": [
            "\u001b[0;31m---------------------------------------------------------------------------\u001b[0m",
            "\u001b[0;31mKeyboardInterrupt\u001b[0m                         Traceback (most recent call last)",
            "Cell \u001b[0;32mIn[16], line 6\u001b[0m\n\u001b[1;32m      4\u001b[0m \u001b[38;5;66;03m# Boxplot of lyric length by artist\u001b[39;00m\n\u001b[1;32m      5\u001b[0m plt\u001b[38;5;241m.\u001b[39mfigure(figsize\u001b[38;5;241m=\u001b[39m(\u001b[38;5;241m12\u001b[39m, \u001b[38;5;241m8\u001b[39m))\n\u001b[0;32m----> 6\u001b[0m \u001b[43msns\u001b[49m\u001b[38;5;241;43m.\u001b[39;49m\u001b[43mboxplot\u001b[49m\u001b[43m(\u001b[49m\u001b[43mdata\u001b[49m\u001b[38;5;241;43m=\u001b[39;49m\u001b[43men_songs\u001b[49m\u001b[43m,\u001b[49m\u001b[43m \u001b[49m\u001b[43mx\u001b[49m\u001b[38;5;241;43m=\u001b[39;49m\u001b[38;5;124;43m'\u001b[39;49m\u001b[38;5;124;43mlyric_length\u001b[39;49m\u001b[38;5;124;43m'\u001b[39;49m\u001b[43m,\u001b[49m\u001b[43m \u001b[49m\u001b[43my\u001b[49m\u001b[38;5;241;43m=\u001b[39;49m\u001b[38;5;124;43m'\u001b[39;49m\u001b[38;5;124;43martist\u001b[39;49m\u001b[38;5;124;43m'\u001b[39;49m\u001b[43m,\u001b[49m\u001b[43m \u001b[49m\u001b[43mpalette\u001b[49m\u001b[38;5;241;43m=\u001b[39;49m\u001b[38;5;124;43m'\u001b[39;49m\u001b[38;5;124;43mtab20\u001b[39;49m\u001b[38;5;124;43m'\u001b[39;49m\u001b[43m)\u001b[49m\n\u001b[1;32m      7\u001b[0m plt\u001b[38;5;241m.\u001b[39mtitle(\u001b[38;5;124m'\u001b[39m\u001b[38;5;124mLyric Length by Artist\u001b[39m\u001b[38;5;124m'\u001b[39m)\n\u001b[1;32m      8\u001b[0m plt\u001b[38;5;241m.\u001b[39mxlabel(\u001b[38;5;124m'\u001b[39m\u001b[38;5;124mLyric Length (Number of Words)\u001b[39m\u001b[38;5;124m'\u001b[39m)\n",
            "File \u001b[0;32m~/miniconda/envs/new_env/lib/python3.8/site-packages/seaborn/categorical.py:2239\u001b[0m, in \u001b[0;36mboxplot\u001b[0;34m(data, x, y, hue, order, hue_order, orient, color, palette, saturation, width, dodge, fliersize, linewidth, whis, ax, **kwargs)\u001b[0m\n\u001b[1;32m   2236\u001b[0m     ax \u001b[38;5;241m=\u001b[39m plt\u001b[38;5;241m.\u001b[39mgca()\n\u001b[1;32m   2237\u001b[0m kwargs\u001b[38;5;241m.\u001b[39mupdate(\u001b[38;5;28mdict\u001b[39m(whis\u001b[38;5;241m=\u001b[39mwhis))\n\u001b[0;32m-> 2239\u001b[0m \u001b[43mplotter\u001b[49m\u001b[38;5;241;43m.\u001b[39;49m\u001b[43mplot\u001b[49m\u001b[43m(\u001b[49m\u001b[43max\u001b[49m\u001b[43m,\u001b[49m\u001b[43m \u001b[49m\u001b[43mkwargs\u001b[49m\u001b[43m)\u001b[49m\n\u001b[1;32m   2240\u001b[0m \u001b[38;5;28;01mreturn\u001b[39;00m ax\n",
            "File \u001b[0;32m~/miniconda/envs/new_env/lib/python3.8/site-packages/seaborn/categorical.py:888\u001b[0m, in \u001b[0;36m_BoxPlotter.plot\u001b[0;34m(self, ax, boxplot_kws)\u001b[0m\n\u001b[1;32m    886\u001b[0m \u001b[38;5;28;01mdef\u001b[39;00m \u001b[38;5;21mplot\u001b[39m(\u001b[38;5;28mself\u001b[39m, ax, boxplot_kws):\n\u001b[1;32m    887\u001b[0m \u001b[38;5;250m    \u001b[39m\u001b[38;5;124;03m\"\"\"Make the plot.\"\"\"\u001b[39;00m\n\u001b[0;32m--> 888\u001b[0m     \u001b[38;5;28;43mself\u001b[39;49m\u001b[38;5;241;43m.\u001b[39;49m\u001b[43mdraw_boxplot\u001b[49m\u001b[43m(\u001b[49m\u001b[43max\u001b[49m\u001b[43m,\u001b[49m\u001b[43m \u001b[49m\u001b[43mboxplot_kws\u001b[49m\u001b[43m)\u001b[49m\n\u001b[1;32m    889\u001b[0m     \u001b[38;5;28mself\u001b[39m\u001b[38;5;241m.\u001b[39mannotate_axes(ax)\n\u001b[1;32m    890\u001b[0m     \u001b[38;5;28;01mif\u001b[39;00m \u001b[38;5;28mself\u001b[39m\u001b[38;5;241m.\u001b[39morient \u001b[38;5;241m==\u001b[39m \u001b[38;5;124m\"\u001b[39m\u001b[38;5;124mh\u001b[39m\u001b[38;5;124m\"\u001b[39m:\n",
            "File \u001b[0;32m~/miniconda/envs/new_env/lib/python3.8/site-packages/seaborn/categorical.py:820\u001b[0m, in \u001b[0;36m_BoxPlotter.draw_boxplot\u001b[0;34m(self, ax, kws)\u001b[0m\n\u001b[1;32m    817\u001b[0m \u001b[38;5;28;01mif\u001b[39;00m box_data\u001b[38;5;241m.\u001b[39msize \u001b[38;5;241m==\u001b[39m \u001b[38;5;241m0\u001b[39m:\n\u001b[1;32m    818\u001b[0m     \u001b[38;5;28;01mcontinue\u001b[39;00m\n\u001b[0;32m--> 820\u001b[0m artist_dict \u001b[38;5;241m=\u001b[39m \u001b[43max\u001b[49m\u001b[38;5;241;43m.\u001b[39;49m\u001b[43mboxplot\u001b[49m\u001b[43m(\u001b[49m\u001b[43mbox_data\u001b[49m\u001b[43m,\u001b[49m\n\u001b[1;32m    821\u001b[0m \u001b[43m                         \u001b[49m\u001b[43mvert\u001b[49m\u001b[38;5;241;43m=\u001b[39;49m\u001b[43mvert\u001b[49m\u001b[43m,\u001b[49m\n\u001b[1;32m    822\u001b[0m \u001b[43m                         \u001b[49m\u001b[43mpatch_artist\u001b[49m\u001b[38;5;241;43m=\u001b[39;49m\u001b[38;5;28;43;01mTrue\u001b[39;49;00m\u001b[43m,\u001b[49m\n\u001b[1;32m    823\u001b[0m \u001b[43m                         \u001b[49m\u001b[43mpositions\u001b[49m\u001b[38;5;241;43m=\u001b[39;49m\u001b[43m[\u001b[49m\u001b[43mi\u001b[49m\u001b[43m]\u001b[49m\u001b[43m,\u001b[49m\n\u001b[1;32m    824\u001b[0m \u001b[43m                         \u001b[49m\u001b[43mwidths\u001b[49m\u001b[38;5;241;43m=\u001b[39;49m\u001b[38;5;28;43mself\u001b[39;49m\u001b[38;5;241;43m.\u001b[39;49m\u001b[43mwidth\u001b[49m\u001b[43m,\u001b[49m\n\u001b[1;32m    825\u001b[0m \u001b[43m                         \u001b[49m\u001b[38;5;241;43m*\u001b[39;49m\u001b[38;5;241;43m*\u001b[39;49m\u001b[43mkws\u001b[49m\u001b[43m)\u001b[49m\n\u001b[1;32m    826\u001b[0m color \u001b[38;5;241m=\u001b[39m \u001b[38;5;28mself\u001b[39m\u001b[38;5;241m.\u001b[39mcolors[i]\n\u001b[1;32m    827\u001b[0m \u001b[38;5;28mself\u001b[39m\u001b[38;5;241m.\u001b[39mrestyle_boxplot(artist_dict, color, props)\n",
            "File \u001b[0;32m~/.local/lib/python3.8/site-packages/matplotlib/__init__.py:1442\u001b[0m, in \u001b[0;36m_preprocess_data.<locals>.inner\u001b[0;34m(ax, data, *args, **kwargs)\u001b[0m\n\u001b[1;32m   1439\u001b[0m \u001b[38;5;129m@functools\u001b[39m\u001b[38;5;241m.\u001b[39mwraps(func)\n\u001b[1;32m   1440\u001b[0m \u001b[38;5;28;01mdef\u001b[39;00m \u001b[38;5;21minner\u001b[39m(ax, \u001b[38;5;241m*\u001b[39margs, data\u001b[38;5;241m=\u001b[39m\u001b[38;5;28;01mNone\u001b[39;00m, \u001b[38;5;241m*\u001b[39m\u001b[38;5;241m*\u001b[39mkwargs):\n\u001b[1;32m   1441\u001b[0m     \u001b[38;5;28;01mif\u001b[39;00m data \u001b[38;5;129;01mis\u001b[39;00m \u001b[38;5;28;01mNone\u001b[39;00m:\n\u001b[0;32m-> 1442\u001b[0m         \u001b[38;5;28;01mreturn\u001b[39;00m \u001b[43mfunc\u001b[49m\u001b[43m(\u001b[49m\u001b[43max\u001b[49m\u001b[43m,\u001b[49m\u001b[43m \u001b[49m\u001b[38;5;241;43m*\u001b[39;49m\u001b[38;5;28;43mmap\u001b[39;49m\u001b[43m(\u001b[49m\u001b[43msanitize_sequence\u001b[49m\u001b[43m,\u001b[49m\u001b[43m \u001b[49m\u001b[43margs\u001b[49m\u001b[43m)\u001b[49m\u001b[43m,\u001b[49m\u001b[43m \u001b[49m\u001b[38;5;241;43m*\u001b[39;49m\u001b[38;5;241;43m*\u001b[39;49m\u001b[43mkwargs\u001b[49m\u001b[43m)\u001b[49m\n\u001b[1;32m   1444\u001b[0m     bound \u001b[38;5;241m=\u001b[39m new_sig\u001b[38;5;241m.\u001b[39mbind(ax, \u001b[38;5;241m*\u001b[39margs, \u001b[38;5;241m*\u001b[39m\u001b[38;5;241m*\u001b[39mkwargs)\n\u001b[1;32m   1445\u001b[0m     auto_label \u001b[38;5;241m=\u001b[39m (bound\u001b[38;5;241m.\u001b[39marguments\u001b[38;5;241m.\u001b[39mget(label_namer)\n\u001b[1;32m   1446\u001b[0m                   \u001b[38;5;129;01mor\u001b[39;00m bound\u001b[38;5;241m.\u001b[39mkwargs\u001b[38;5;241m.\u001b[39mget(label_namer))\n",
            "File \u001b[0;32m~/.local/lib/python3.8/site-packages/matplotlib/axes/_axes.py:4010\u001b[0m, in \u001b[0;36mAxes.boxplot\u001b[0;34m(self, x, notch, sym, vert, whis, positions, widths, patch_artist, bootstrap, usermedians, conf_intervals, meanline, showmeans, showcaps, showbox, showfliers, boxprops, labels, flierprops, medianprops, meanprops, capprops, whiskerprops, manage_ticks, autorange, zorder, capwidths)\u001b[0m\n\u001b[1;32m   4007\u001b[0m                     \u001b[38;5;28;01mif\u001b[39;00m ci[\u001b[38;5;241m1\u001b[39m] \u001b[38;5;129;01mis\u001b[39;00m \u001b[38;5;129;01mnot\u001b[39;00m \u001b[38;5;28;01mNone\u001b[39;00m:\n\u001b[1;32m   4008\u001b[0m                         stats[\u001b[38;5;124m'\u001b[39m\u001b[38;5;124mcihi\u001b[39m\u001b[38;5;124m'\u001b[39m] \u001b[38;5;241m=\u001b[39m ci[\u001b[38;5;241m1\u001b[39m]\n\u001b[0;32m-> 4010\u001b[0m artists \u001b[38;5;241m=\u001b[39m \u001b[38;5;28;43mself\u001b[39;49m\u001b[38;5;241;43m.\u001b[39;49m\u001b[43mbxp\u001b[49m\u001b[43m(\u001b[49m\u001b[43mbxpstats\u001b[49m\u001b[43m,\u001b[49m\u001b[43m \u001b[49m\u001b[43mpositions\u001b[49m\u001b[38;5;241;43m=\u001b[39;49m\u001b[43mpositions\u001b[49m\u001b[43m,\u001b[49m\u001b[43m \u001b[49m\u001b[43mwidths\u001b[49m\u001b[38;5;241;43m=\u001b[39;49m\u001b[43mwidths\u001b[49m\u001b[43m,\u001b[49m\n\u001b[1;32m   4011\u001b[0m \u001b[43m                   \u001b[49m\u001b[43mvert\u001b[49m\u001b[38;5;241;43m=\u001b[39;49m\u001b[43mvert\u001b[49m\u001b[43m,\u001b[49m\u001b[43m \u001b[49m\u001b[43mpatch_artist\u001b[49m\u001b[38;5;241;43m=\u001b[39;49m\u001b[43mpatch_artist\u001b[49m\u001b[43m,\u001b[49m\n\u001b[1;32m   4012\u001b[0m \u001b[43m                   \u001b[49m\u001b[43mshownotches\u001b[49m\u001b[38;5;241;43m=\u001b[39;49m\u001b[43mnotch\u001b[49m\u001b[43m,\u001b[49m\u001b[43m \u001b[49m\u001b[43mshowmeans\u001b[49m\u001b[38;5;241;43m=\u001b[39;49m\u001b[43mshowmeans\u001b[49m\u001b[43m,\u001b[49m\n\u001b[1;32m   4013\u001b[0m \u001b[43m                   \u001b[49m\u001b[43mshowcaps\u001b[49m\u001b[38;5;241;43m=\u001b[39;49m\u001b[43mshowcaps\u001b[49m\u001b[43m,\u001b[49m\u001b[43m \u001b[49m\u001b[43mshowbox\u001b[49m\u001b[38;5;241;43m=\u001b[39;49m\u001b[43mshowbox\u001b[49m\u001b[43m,\u001b[49m\n\u001b[1;32m   4014\u001b[0m \u001b[43m                   \u001b[49m\u001b[43mboxprops\u001b[49m\u001b[38;5;241;43m=\u001b[39;49m\u001b[43mboxprops\u001b[49m\u001b[43m,\u001b[49m\u001b[43m \u001b[49m\u001b[43mflierprops\u001b[49m\u001b[38;5;241;43m=\u001b[39;49m\u001b[43mflierprops\u001b[49m\u001b[43m,\u001b[49m\n\u001b[1;32m   4015\u001b[0m \u001b[43m                   \u001b[49m\u001b[43mmedianprops\u001b[49m\u001b[38;5;241;43m=\u001b[39;49m\u001b[43mmedianprops\u001b[49m\u001b[43m,\u001b[49m\u001b[43m \u001b[49m\u001b[43mmeanprops\u001b[49m\u001b[38;5;241;43m=\u001b[39;49m\u001b[43mmeanprops\u001b[49m\u001b[43m,\u001b[49m\n\u001b[1;32m   4016\u001b[0m \u001b[43m                   \u001b[49m\u001b[43mmeanline\u001b[49m\u001b[38;5;241;43m=\u001b[39;49m\u001b[43mmeanline\u001b[49m\u001b[43m,\u001b[49m\u001b[43m \u001b[49m\u001b[43mshowfliers\u001b[49m\u001b[38;5;241;43m=\u001b[39;49m\u001b[43mshowfliers\u001b[49m\u001b[43m,\u001b[49m\n\u001b[1;32m   4017\u001b[0m \u001b[43m                   \u001b[49m\u001b[43mcapprops\u001b[49m\u001b[38;5;241;43m=\u001b[39;49m\u001b[43mcapprops\u001b[49m\u001b[43m,\u001b[49m\u001b[43m \u001b[49m\u001b[43mwhiskerprops\u001b[49m\u001b[38;5;241;43m=\u001b[39;49m\u001b[43mwhiskerprops\u001b[49m\u001b[43m,\u001b[49m\n\u001b[1;32m   4018\u001b[0m \u001b[43m                   \u001b[49m\u001b[43mmanage_ticks\u001b[49m\u001b[38;5;241;43m=\u001b[39;49m\u001b[43mmanage_ticks\u001b[49m\u001b[43m,\u001b[49m\u001b[43m \u001b[49m\u001b[43mzorder\u001b[49m\u001b[38;5;241;43m=\u001b[39;49m\u001b[43mzorder\u001b[49m\u001b[43m,\u001b[49m\n\u001b[1;32m   4019\u001b[0m \u001b[43m                   \u001b[49m\u001b[43mcapwidths\u001b[49m\u001b[38;5;241;43m=\u001b[39;49m\u001b[43mcapwidths\u001b[49m\u001b[43m)\u001b[49m\n\u001b[1;32m   4020\u001b[0m \u001b[38;5;28;01mreturn\u001b[39;00m artists\n",
            "File \u001b[0;32m~/.local/lib/python3.8/site-packages/matplotlib/axes/_axes.py:4297\u001b[0m, in \u001b[0;36mAxes.bxp\u001b[0;34m(self, bxpstats, positions, widths, vert, patch_artist, shownotches, showmeans, showcaps, showbox, showfliers, boxprops, whiskerprops, flierprops, medianprops, capprops, meanprops, meanline, manage_ticks, zorder, capwidths)\u001b[0m\n\u001b[1;32m   4295\u001b[0m     locator \u001b[38;5;241m=\u001b[39m mticker\u001b[38;5;241m.\u001b[39mFixedLocator([])\n\u001b[1;32m   4296\u001b[0m     axis\u001b[38;5;241m.\u001b[39mset_major_locator(locator)\n\u001b[0;32m-> 4297\u001b[0m locator\u001b[38;5;241m.\u001b[39mlocs \u001b[38;5;241m=\u001b[39m \u001b[43mnp\u001b[49m\u001b[38;5;241;43m.\u001b[39;49m\u001b[43marray\u001b[49m\u001b[43m(\u001b[49m\u001b[43m[\u001b[49m\u001b[38;5;241;43m*\u001b[39;49m\u001b[43mlocator\u001b[49m\u001b[38;5;241;43m.\u001b[39;49m\u001b[43mlocs\u001b[49m\u001b[43m,\u001b[49m\u001b[43m \u001b[49m\u001b[38;5;241;43m*\u001b[39;49m\u001b[43mpositions\u001b[49m\u001b[43m]\u001b[49m\u001b[43m)\u001b[49m\n\u001b[1;32m   4298\u001b[0m formatter \u001b[38;5;241m=\u001b[39m axis\u001b[38;5;241m.\u001b[39mget_major_formatter()\n\u001b[1;32m   4299\u001b[0m \u001b[38;5;28;01mif\u001b[39;00m \u001b[38;5;129;01mnot\u001b[39;00m \u001b[38;5;28misinstance\u001b[39m(axis\u001b[38;5;241m.\u001b[39mget_major_formatter(),\n\u001b[1;32m   4300\u001b[0m                   mticker\u001b[38;5;241m.\u001b[39mFixedFormatter):\n",
            "\u001b[0;31mKeyboardInterrupt\u001b[0m: "
          ]
        }
      ],
      "source": [
        "# Create a new column for lyric length\n",
        "en_songs['lyric_length'] = en_songs['lyrics'].apply(lambda x: len(str(x).split()) if pd.notnull(x) else 0)\n",
        "\n",
        "# Boxplot of lyric length by artist\n",
        "plt.figure(figsize=(12, 8))\n",
        "sns.boxplot(data=en_songs, x='lyric_length', y='artist', palette='tab20')\n",
        "plt.title('Lyric Length by Artist')\n",
        "plt.xlabel('Lyric Length (Number of Words)')\n",
        "plt.ylabel('Artist')\n",
        "plt.show()"
      ]
    },
    {
      "cell_type": "code",
      "execution_count": 57,
      "metadata": {
        "colab": {
          "base_uri": "https://localhost:8080/",
          "height": 718
        },
        "id": "5_s8TgWQd3Ga",
        "outputId": "6a44f92e-c097-4a70-d376-01d8c6c13e54"
      },
      "outputs": [
        {
          "data": {
            "image/png": "[encoded data removed]",
            "text/plain": [
              "<Figure size 1200x800 with 1 Axes>"
            ]
          },
          "metadata": {},
          "output_type": "display_data"
        }
      ],
      "source": [
        "# Create bins for lyric length\n",
        "bins = [0, 50, 100, 200, 500, 1000]\n",
        "en_songs['lyric_length_category'] = pd.cut(en_songs['lyric_length'], bins=bins, labels=['0-50', '51-100', '101-200', '201-500', '501-1000'])\n",
        "\n",
        "# Count of songs by lyric length category and artist\n",
        "plt.figure(figsize=(12, 8))\n",
        "sns.countplot(data=en_songs, x='lyric_length_category', hue='Artist')\n",
        "plt.title('Song Count by Lyric Length Category and Artist')\n",
        "plt.xlabel('Lyric Length Category')\n",
        "plt.ylabel('Count')\n",
        "plt.show()\n"
      ]
    },
    {
      "cell_type": "code",
      "execution_count": 43,
      "metadata": {
        "colab": {
          "base_uri": "https://localhost:8080/"
        },
        "id": "lbkw-m9ueCoX",
        "outputId": "d7dd80c5-7f1c-4f83-dae2-2ba8c07b0fd2"
      },
      "outputs": [
        {
          "name": "stdout",
          "output_type": "stream",
          "text": [
            "artist\n",
            "Lil Wayne      989\n",
            "Juice WRLD     936\n",
            "Gucci Mane     931\n",
            "Chief Keef     730\n",
            "Chris Brown    670\n",
            "BONES          607\n",
            "Glee Cast      595\n",
            "Young Thug     590\n",
            "Kanye West     582\n",
            "Wiz Khalifa    536\n",
            "Name: count, dtype: int64\n",
            "Lil Wayne\n",
            "Top 10 Words by Artist:\n",
            "[('like', 7352), ('got', 4722), ('yeah', 4584), ('nigga', 4352), ('get', 3548), ('bitch', 3319), ('know', 2923), ('lil', 2856), ('fuck', 2541), ('wayne', 2490)]\n",
            "Juice WRLD\n",
            "Top 10 Words by Artist:\n",
            "[('yeah', 8120), ('like', 5447), ('uh', 5062), ('bitch', 3656), ('got', 2922), ('know', 2756), ('huh', 2753), ('fuck', 2627), ('get', 2589), ('oh', 2475)]\n",
            "Gucci Mane\n",
            "Top 10 Words by Artist:\n",
            "[('gucci', 5204), ('got', 5062), ('like', 4690), ('nigga', 3959), ('bitch', 3013), ('mane', 2915), ('get', 2295), ('verse', 2070), ('money', 1987), ('know', 1864)]\n",
            "Chief Keef\n",
            "Top 10 Words by Artist:\n",
            "[('bitch', 4290), ('like', 4072), ('got', 3920), ('nigga', 3189), ('ayy', 2834), ('bang', 2798), ('get', 2594), ('know', 2226), ('shit', 2119), ('yeah', 1930)]\n",
            "Chris Brown\n",
            "Top 10 Words by Artist:\n",
            "[('oh', 6123), ('yeah', 5160), ('girl', 3268), ('know', 3049), ('like', 2909), ('chorus', 2765), ('baby', 2619), ('love', 2495), ('got', 2222), ('chris', 2070)]\n",
            "BONES\n",
            "Top 10 Words by Artist:\n",
            "[('like', 1367), ('know', 1077), ('get', 804), ('verse', 771), ('got', 748), ('never', 687), ('bitch', 679), ('bones', 618), ('see', 591), ('go', 577)]\n",
            "Glee Cast\n",
            "Top 10 Words by Artist:\n",
            "[('oh', 3514), ('new', 2182), ('directions', 1997), ('yeah', 1796), ('love', 1601), ('rachel', 1473), ('know', 1235), ('baby', 1022), ('blaine', 1017), ('santana', 975)]\n",
            "Young Thug\n",
            "Top 10 Words by Artist:\n",
            "[('yeah', 6956), ('like', 4398), ('got', 3617), ('nigga', 2581), ('know', 2479), ('bitch', 2189), ('young', 1975), ('get', 1964), ('fuck', 1834), ('thug', 1805)]\n",
            "Kanye West\n",
            "Top 10 Words by Artist:\n",
            "[('like', 2380), ('know', 1926), ('kanye', 1810), ('west', 1641), ('get', 1613), ('got', 1531), ('yeah', 1378), ('oh', 1244), ('verse', 1204), ('chorus', 1066)]\n",
            "Wiz Khalifa\n",
            "Top 10 Words by Artist:\n",
            "[('got', 2167), ('get', 1875), ('like', 1821), ('niggas', 1674), ('know', 1450), ('yeah', 1270), ('nigga', 1203), ('money', 1124), ('wiz', 1117), ('khalifa', 1110)]\n"
          ]
        }
      ],
      "source": [
        "# Function to extract the most common words for a given artist\n",
        "import re\n",
        "def common_words_by_artist(artist_name, n=10):\n",
        "    artist_lyrics = ' '.join(en_songs[en_songs['artist'] == artist_name]['lyrics'].dropna().tolist())\n",
        "    words = re.findall(r'\\w+', artist_lyrics.lower())\n",
        "    filtered_words = [word for word in words if word not in stopwords.words('english')]\n",
        "    word_count = Counter(filtered_words)\n",
        "    return word_count.most_common(n)\n",
        "\n",
        "# Example: Get the top 10 words used by a specific artist\n",
        "for artist in top_artists.index:\n",
        "    top_words_artist = common_words_by_artist(artist)\n",
        "    print(\"Top 10 Words by Artist:\")\n",
        "    print(top_words_artist)\n"
      ]
    },
    {
      "cell_type": "code",
      "execution_count": 44,
      "metadata": {
        "colab": {
          "base_uri": "https://localhost:8080/",
          "height": 785
        },
        "id": "vOgxwQemeL4p",
        "outputId": "3e1fcce1-5ae2-4273-cf7c-8d9f4341747b"
      },
      "outputs": [
        {
          "ename": "ValueError",
          "evalue": "empty vocabulary; perhaps the documents only contain stop words",
          "output_type": "error",
          "traceback": [
            "\u001b[0;31m---------------------------------------------------------------------------\u001b[0m",
            "\u001b[0;31mValueError\u001b[0m                                Traceback (most recent call last)",
            "Cell \u001b[0;32mIn[44], line 10\u001b[0m\n\u001b[1;32m      8\u001b[0m \u001b[38;5;66;03m# Convert lyrics to TF-IDF vectors\u001b[39;00m\n\u001b[1;32m      9\u001b[0m vectorizer \u001b[38;5;241m=\u001b[39m TfidfVectorizer()\n\u001b[0;32m---> 10\u001b[0m tfidf_matrix \u001b[38;5;241m=\u001b[39m \u001b[43mvectorizer\u001b[49m\u001b[38;5;241;43m.\u001b[39;49m\u001b[43mfit_transform\u001b[49m\u001b[43m(\u001b[49m\u001b[43martists_lyrics\u001b[49m\u001b[38;5;241;43m.\u001b[39;49m\u001b[43mvalues\u001b[49m\u001b[43m)\u001b[49m\n\u001b[1;32m     12\u001b[0m \u001b[38;5;66;03m# Compute cosine similarity between artists\u001b[39;00m\n\u001b[1;32m     13\u001b[0m similarity_matrix \u001b[38;5;241m=\u001b[39m cosine_similarity(tfidf_matrix)\n",
            "File \u001b[0;32m~/miniconda/envs/new_env/lib/python3.8/site-packages/sklearn/feature_extraction/text.py:2133\u001b[0m, in \u001b[0;36mTfidfVectorizer.fit_transform\u001b[0;34m(self, raw_documents, y)\u001b[0m\n\u001b[1;32m   2126\u001b[0m \u001b[38;5;28mself\u001b[39m\u001b[38;5;241m.\u001b[39m_check_params()\n\u001b[1;32m   2127\u001b[0m \u001b[38;5;28mself\u001b[39m\u001b[38;5;241m.\u001b[39m_tfidf \u001b[38;5;241m=\u001b[39m TfidfTransformer(\n\u001b[1;32m   2128\u001b[0m     norm\u001b[38;5;241m=\u001b[39m\u001b[38;5;28mself\u001b[39m\u001b[38;5;241m.\u001b[39mnorm,\n\u001b[1;32m   2129\u001b[0m     use_idf\u001b[38;5;241m=\u001b[39m\u001b[38;5;28mself\u001b[39m\u001b[38;5;241m.\u001b[39muse_idf,\n\u001b[1;32m   2130\u001b[0m     smooth_idf\u001b[38;5;241m=\u001b[39m\u001b[38;5;28mself\u001b[39m\u001b[38;5;241m.\u001b[39msmooth_idf,\n\u001b[1;32m   2131\u001b[0m     sublinear_tf\u001b[38;5;241m=\u001b[39m\u001b[38;5;28mself\u001b[39m\u001b[38;5;241m.\u001b[39msublinear_tf,\n\u001b[1;32m   2132\u001b[0m )\n\u001b[0;32m-> 2133\u001b[0m X \u001b[38;5;241m=\u001b[39m \u001b[38;5;28;43msuper\u001b[39;49m\u001b[43m(\u001b[49m\u001b[43m)\u001b[49m\u001b[38;5;241;43m.\u001b[39;49m\u001b[43mfit_transform\u001b[49m\u001b[43m(\u001b[49m\u001b[43mraw_documents\u001b[49m\u001b[43m)\u001b[49m\n\u001b[1;32m   2134\u001b[0m \u001b[38;5;28mself\u001b[39m\u001b[38;5;241m.\u001b[39m_tfidf\u001b[38;5;241m.\u001b[39mfit(X)\n\u001b[1;32m   2135\u001b[0m \u001b[38;5;66;03m# X is already a transformed view of raw_documents so\u001b[39;00m\n\u001b[1;32m   2136\u001b[0m \u001b[38;5;66;03m# we set copy to False\u001b[39;00m\n",
            "File \u001b[0;32m~/miniconda/envs/new_env/lib/python3.8/site-packages/sklearn/feature_extraction/text.py:1388\u001b[0m, in \u001b[0;36mCountVectorizer.fit_transform\u001b[0;34m(self, raw_documents, y)\u001b[0m\n\u001b[1;32m   1380\u001b[0m             warnings\u001b[38;5;241m.\u001b[39mwarn(\n\u001b[1;32m   1381\u001b[0m                 \u001b[38;5;124m\"\u001b[39m\u001b[38;5;124mUpper case characters found in\u001b[39m\u001b[38;5;124m\"\u001b[39m\n\u001b[1;32m   1382\u001b[0m                 \u001b[38;5;124m\"\u001b[39m\u001b[38;5;124m vocabulary while \u001b[39m\u001b[38;5;124m'\u001b[39m\u001b[38;5;124mlowercase\u001b[39m\u001b[38;5;124m'\u001b[39m\u001b[38;5;124m\"\u001b[39m\n\u001b[1;32m   1383\u001b[0m                 \u001b[38;5;124m\"\u001b[39m\u001b[38;5;124m is True. These entries will not\u001b[39m\u001b[38;5;124m\"\u001b[39m\n\u001b[1;32m   1384\u001b[0m                 \u001b[38;5;124m\"\u001b[39m\u001b[38;5;124m be matched with any documents\u001b[39m\u001b[38;5;124m\"\u001b[39m\n\u001b[1;32m   1385\u001b[0m             )\n\u001b[1;32m   1386\u001b[0m             \u001b[38;5;28;01mbreak\u001b[39;00m\n\u001b[0;32m-> 1388\u001b[0m vocabulary, X \u001b[38;5;241m=\u001b[39m \u001b[38;5;28;43mself\u001b[39;49m\u001b[38;5;241;43m.\u001b[39;49m\u001b[43m_count_vocab\u001b[49m\u001b[43m(\u001b[49m\u001b[43mraw_documents\u001b[49m\u001b[43m,\u001b[49m\u001b[43m \u001b[49m\u001b[38;5;28;43mself\u001b[39;49m\u001b[38;5;241;43m.\u001b[39;49m\u001b[43mfixed_vocabulary_\u001b[49m\u001b[43m)\u001b[49m\n\u001b[1;32m   1390\u001b[0m \u001b[38;5;28;01mif\u001b[39;00m \u001b[38;5;28mself\u001b[39m\u001b[38;5;241m.\u001b[39mbinary:\n\u001b[1;32m   1391\u001b[0m     X\u001b[38;5;241m.\u001b[39mdata\u001b[38;5;241m.\u001b[39mfill(\u001b[38;5;241m1\u001b[39m)\n",
            "File \u001b[0;32m~/miniconda/envs/new_env/lib/python3.8/site-packages/sklearn/feature_extraction/text.py:1294\u001b[0m, in \u001b[0;36mCountVectorizer._count_vocab\u001b[0;34m(self, raw_documents, fixed_vocab)\u001b[0m\n\u001b[1;32m   1292\u001b[0m     vocabulary \u001b[38;5;241m=\u001b[39m \u001b[38;5;28mdict\u001b[39m(vocabulary)\n\u001b[1;32m   1293\u001b[0m     \u001b[38;5;28;01mif\u001b[39;00m \u001b[38;5;129;01mnot\u001b[39;00m vocabulary:\n\u001b[0;32m-> 1294\u001b[0m         \u001b[38;5;28;01mraise\u001b[39;00m \u001b[38;5;167;01mValueError\u001b[39;00m(\n\u001b[1;32m   1295\u001b[0m             \u001b[38;5;124m\"\u001b[39m\u001b[38;5;124mempty vocabulary; perhaps the documents only contain stop words\u001b[39m\u001b[38;5;124m\"\u001b[39m\n\u001b[1;32m   1296\u001b[0m         )\n\u001b[1;32m   1298\u001b[0m \u001b[38;5;28;01mif\u001b[39;00m indptr[\u001b[38;5;241m-\u001b[39m\u001b[38;5;241m1\u001b[39m] \u001b[38;5;241m>\u001b[39m np\u001b[38;5;241m.\u001b[39miinfo(np\u001b[38;5;241m.\u001b[39mint32)\u001b[38;5;241m.\u001b[39mmax:  \u001b[38;5;66;03m# = 2**31 - 1\u001b[39;00m\n\u001b[1;32m   1299\u001b[0m     \u001b[38;5;28;01mif\u001b[39;00m _IS_32BIT:\n",
            "\u001b[0;31mValueError\u001b[0m: empty vocabulary; perhaps the documents only contain stop words"
          ]
        }
      ],
      "source": [
        "from sklearn.feature_extraction.text import TfidfVectorizer\n",
        "from sklearn.metrics.pairwise import cosine_similarity\n",
        "\n",
        "# Get a list of artists with their concatenated lyrics\n",
        "top_artists_songs = en_songs[en_songs['artist'].isin(top_artists)]\n",
        "artists_lyrics = top_artists_songs.groupby('artist')['lyrics'].apply(lambda x: ' '.join(x.dropna()))\n",
        "\n",
        "# Convert lyrics to TF-IDF vectors\n",
        "vectorizer = TfidfVectorizer()\n",
        "tfidf_matrix = vectorizer.fit_transform(artists_lyrics.values)\n",
        "\n",
        "# Compute cosine similarity between artists\n",
        "similarity_matrix = cosine_similarity(tfidf_matrix)\n",
        "\n",
        "# Display the similarity matrix as a heatmap\n",
        "plt.figure(figsize=(10, 8))\n",
        "sns.heatmap(similarity_matrix, xticklabels=artists_lyrics.index, yticklabels=artists_lyrics.index, cmap='coolwarm', annot=True, fmt=\".2f\")\n",
        "plt.title(\"Similarity Between Artists' Lyrics\")\n",
        "plt.show()\n"
      ]
    }
  ],
  "metadata": {
    "colab": {
      "collapsed_sections": [
        "4QsgvxOGdhby"
      ],
      "provenance": []
    },
    "kernelspec": {
      "display_name": "Python 3",
      "name": "python3"
    },
    "language_info": {
      "codemirror_mode": {
        "name": "ipython",
        "version": 3
      },
      "file_extension": ".py",
      "mimetype": "text/x-python",
      "name": "python",
      "nbconvert_exporter": "python",
      "pygments_lexer": "ipython3",
      "version": "3.8.16"
    }
  },
  "nbformat": 4,
  "nbformat_minor": 0
}
